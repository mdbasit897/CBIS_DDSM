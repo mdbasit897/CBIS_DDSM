{
 "cells": [
  {
   "cell_type": "code",
   "execution_count": null,
   "id": "cd8e94a4-50b0-4546-9df9-11958cbe76c4",
   "metadata": {
    "tags": []
   },
   "outputs": [],
   "source": [
    "with open('kaggle.json', 'r') as f:\n",
    "    print(f.read())"
   ]
  },
  {
   "cell_type": "code",
   "execution_count": null,
   "id": "26608d17-65b9-45dc-a2ee-92f8fa563732",
   "metadata": {
    "tags": []
   },
   "outputs": [],
   "source": [
    "!chmod 600 ./kaggle.json"
   ]
  },
  {
   "cell_type": "code",
   "execution_count": 1,
   "id": "dce73681-114e-4e02-8731-7a4c5af9cefa",
   "metadata": {
    "tags": []
   },
   "outputs": [
    {
     "name": "stdout",
     "output_type": "stream",
     "text": [
      "['D1NAMOECGGlucoseData (1).ipynb', 'Kaggle_API_Test.ipynb', 'kaggle.json', '.ipynb_checkpoints']\n",
      "ref                                                              title                                             size  lastUpdated          downloadCount  voteCount  usabilityRating  \n",
      "---------------------------------------------------------------  -----------------------------------------------  -----  -------------------  -------------  ---------  ---------------  \n",
      "asinow/car-price-dataset                                         Car Price Dataset                                135KB  2025-01-26 19:53:28          20001        321  1.0              \n",
      "abdulmalik1518/mobiles-dataset-2025                              Mobiles Dataset (2025)                            20KB  2025-02-18 06:50:24           3776         72  1.0              \n",
      "himelsarder/coffee-shop-daily-revenue-prediction-dataset         Coffee Shop Daily Revenue Prediction Dataset      30KB  2025-02-07 07:29:16           2130         26  1.0              \n",
      "mahmoudelhemaly/students-grading-dataset                         Student Performance & Behavior Dataset           508KB  2025-02-17 17:38:46           3302         64  1.0              \n",
      "asinow/diabetes-dataset                                          Diabetes Dataset                                 224KB  2025-02-20 08:38:56           2211         32  1.0              \n",
      "vinothkannaece/sales-dataset                                     sales dataset                                     27KB  2025-02-18 05:13:42           3679         55  1.0              \n",
      "ankushpanday2/heart-attack-risk-and-prediction-dataset-in-india  Heart Attack Risk & Prediction Dataset In India  269KB  2025-02-25 16:53:26            941         24  1.0              \n",
      "samithsachidanandan/world-happiness-report-2020-2024             World Happiness Report (2020-2024)                22KB  2025-02-19 16:39:47            871         25  1.0              \n",
      "samithsachidanandan/air-traffic-in-europe-from-2016-to-2024      Air Traffic in Europe from 2016 to 2024            9MB  2025-02-09 04:46:18           1046         25  1.0              \n",
      "bhargavchirumamilla/thyroid-cancer-risk-dataset                  Thyroid Cancer Risk Dataset                        4MB  2025-02-04 03:55:56           1089         27  1.0              \n",
      "adilshamim8/economic-indicators-and-inflation                    Economic Indicators & Inflation                    7KB  2025-02-14 08:49:30            992         22  1.0              \n",
      "adilshamim8/student-performance-and-learning-style               Student Performance & Learning Style             148KB  2025-02-12 06:12:07           1565         31  1.0              \n",
      "samayashar/fraud-detection-transactions-dataset                  Fraud Detection Transactions Dataset               2MB  2025-02-21 18:06:23           1457         30  1.0              \n",
      "sahityasetu/ufo-sightings                                        UFO Sightings                                      5MB  2025-02-15 08:47:02            629         23  1.0              \n",
      "adilshamim8/startup-growth-and-investment-data                   Startup Growth & Investment Data                 141KB  2025-02-02 07:27:03           1859         34  1.0              \n",
      "adilshamim8/education-and-career-success                         Education & Career Success.                      118KB  2025-02-03 05:24:20           5266         75  1.0              \n",
      "ak0212/indian-bike-sales-dataset                                 Indian Bike Sales Dataset                        266KB  2025-02-21 12:20:27           1267         26  1.0              \n",
      "shankarpriya2913/crop-and-soil-dataset                           Crop and Soil DataSet                            107KB  2025-01-28 08:32:23           1644         26  1.0              \n",
      "anandshaw2001/top-spotify-songs-in-73-countries                  Top Spotify Songs in 73 Countries                132MB  2025-02-18 17:18:42            986         26  1.0              \n",
      "adilshamim8/workout-and-fitness-tracker-data                     Workout & Fitness Tracker Dataset                272KB  2025-02-08 06:11:18           1565         26  1.0              \n"
     ]
    }
   ],
   "source": [
    "import os\n",
    "\n",
    "# Set the path to the directory containing kaggle.json\n",
    "os.environ['KAGGLE_CONFIG_DIR'] = os.getcwd()\n",
    "\n",
    "# Verify the file exists\n",
    "print(os.listdir(os.environ['KAGGLE_CONFIG_DIR']))\n",
    "\n",
    "# Run the Kaggle command\n",
    "!kaggle datasets list"
   ]
  },
  {
   "cell_type": "code",
   "execution_count": null,
   "id": "7a0c2beb-30be-4727-9336-c32592bfce67",
   "metadata": {},
   "outputs": [],
   "source": []
  }
 ],
 "metadata": {
  "environment": {
   "kernel": "conda-base-py",
   "name": "workbench-notebooks.m128",
   "type": "gcloud",
   "uri": "us-docker.pkg.dev/deeplearning-platform-release/gcr.io/workbench-notebooks:m128"
  },
  "kernelspec": {
   "display_name": "Python 3 (ipykernel)",
   "language": "python",
   "name": "conda-base-py"
  },
  "language_info": {
   "codemirror_mode": {
    "name": "ipython",
    "version": 3
   },
   "file_extension": ".py",
   "mimetype": "text/x-python",
   "name": "python",
   "nbconvert_exporter": "python",
   "pygments_lexer": "ipython3",
   "version": "3.10.16"
  },
  "toc-autonumbering": false
 },
 "nbformat": 4,
 "nbformat_minor": 5
}
